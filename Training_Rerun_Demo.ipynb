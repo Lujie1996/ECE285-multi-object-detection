{
 "cells": [
  {
   "cell_type": "code",
   "execution_count": null,
   "metadata": {
    "scrolled": false
   },
   "outputs": [],
   "source": [
    "%matplotlib notebook\n",
    "import dataset\n",
    "import model\n",
    "import stats\n",
    "import util\n",
    "import loss\n",
    "import datetime\n",
    "import torch\n",
    "import nntools as nt\n",
    "import matplotlib.pyplot as plt\n",
    "device = 'cuda' if torch.cuda.is_available() else 'cpu'\n",
    "dataset_root_dir = '/datasets/ee285f-public/PascalVOC2012'\n",
    "\n",
    "train_set = dataset.VOCDataset(dataset_root_dir, S=7)\n",
    "val_set = dataset.VOCDataset(dataset_root_dir, mode='val', S=7)\n",
    "\n",
    "lr = 1e-4\n",
    "net = model.ResYOLO(num_classes=20)\n",
    "net = net.to(device)\n",
    "adam = torch.optim.SGD(net.parameters(), lr=lr, momentum=0.9, weight_decay=0.0005)\n",
    "#scheduler = torch.optim.lr_scheduler.LambdaLR(adam, lr_lambda, last_epoch=-1)\n",
    "stats_manager = stats.ClassificationStatsManager()\n",
    "exp = nt.Experiment(net, train_set, val_set, adam, stats_manager, batch_size=64,\n",
    "               output_dir=\"Training_Rerun_Demo\", perform_validation_during_training=True)\n",
    "\n",
    "fig, axes = plt.subplots(ncols=2, figsize=(7, 3))\n",
    "print(datetime.datetime.now())\n",
    "exp.run(num_epochs=135, plot=lambda exp: util.plot(exp, fig=fig, axes=axes))\n",
    "\n",
    "\n"
   ]
  },
  {
   "cell_type": "code",
   "execution_count": null,
   "metadata": {},
   "outputs": [],
   "source": [
    "a = torch.tensor([[True,True,True],[True,True,False]])\n",
    "print(a.size())\n",
    "print(a.shape)"
   ]
  },
  {
   "cell_type": "code",
   "execution_count": null,
   "metadata": {},
   "outputs": [],
   "source": []
  }
 ],
 "metadata": {
  "kernelspec": {
   "display_name": "Python 3",
   "language": "python",
   "name": "python3"
  },
  "language_info": {
   "codemirror_mode": {
    "name": "ipython",
    "version": 3
   },
   "file_extension": ".py",
   "mimetype": "text/x-python",
   "name": "python",
   "nbconvert_exporter": "python",
   "pygments_lexer": "ipython3",
   "version": "3.6.8"
  }
 },
 "nbformat": 4,
 "nbformat_minor": 2
}
